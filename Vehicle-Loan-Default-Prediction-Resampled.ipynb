{
 "cells": [
  {
   "cell_type": "code",
   "execution_count": 1,
   "id": "d1a876a1",
   "metadata": {},
   "outputs": [],
   "source": [
    "import pandas as pd\n",
    "import numpy as np\n",
    "import matplotlib.pyplot as plt\n",
    "import seaborn as sns\n",
    "\n",
    "from sklearn.utils import resample\n",
    "from sklearn.ensemble import RandomForestClassifier\n",
    "from sklearn.tree import DecisionTreeClassifier\n",
    "from sklearn.linear_model import LogisticRegression\n",
    "from sklearn.metrics import confusion_matrix\n",
    "from sklearn.model_selection import train_test_split\n",
    "from sklearn import preprocessing\n",
    "from sklearn.metrics import balanced_accuracy_score\n",
    "from datetime import datetime, date\n",
    "\n",
    "%matplotlib inline"
   ]
  },
  {
   "cell_type": "code",
   "execution_count": 2,
   "id": "3924434c",
   "metadata": {},
   "outputs": [],
   "source": [
    "raw_df = pd.read_csv(\"data.csv\")"
   ]
  },
  {
   "cell_type": "markdown",
   "id": "55686cc8",
   "metadata": {},
   "source": [
    "### Exploratory Data Analysis"
   ]
  },
  {
   "cell_type": "code",
   "execution_count": 3,
   "id": "1f52314c",
   "metadata": {},
   "outputs": [
    {
     "data": {
      "text/html": [
       "<div>\n",
       "<style scoped>\n",
       "    .dataframe tbody tr th:only-of-type {\n",
       "        vertical-align: middle;\n",
       "    }\n",
       "\n",
       "    .dataframe tbody tr th {\n",
       "        vertical-align: top;\n",
       "    }\n",
       "\n",
       "    .dataframe thead th {\n",
       "        text-align: right;\n",
       "    }\n",
       "</style>\n",
       "<table border=\"1\" class=\"dataframe\">\n",
       "  <thead>\n",
       "    <tr style=\"text-align: right;\">\n",
       "      <th></th>\n",
       "      <th>UniqueID</th>\n",
       "      <th>disbursed_amount</th>\n",
       "      <th>asset_cost</th>\n",
       "      <th>ltv</th>\n",
       "      <th>branch_id</th>\n",
       "      <th>supplier_id</th>\n",
       "      <th>manufacturer_id</th>\n",
       "      <th>Current_pincode_ID</th>\n",
       "      <th>Date.of.Birth</th>\n",
       "      <th>Employment.Type</th>\n",
       "      <th>...</th>\n",
       "      <th>SEC.SANCTIONED.AMOUNT</th>\n",
       "      <th>SEC.DISBURSED.AMOUNT</th>\n",
       "      <th>PRIMARY.INSTAL.AMT</th>\n",
       "      <th>SEC.INSTAL.AMT</th>\n",
       "      <th>NEW.ACCTS.IN.LAST.SIX.MONTHS</th>\n",
       "      <th>DELINQUENT.ACCTS.IN.LAST.SIX.MONTHS</th>\n",
       "      <th>AVERAGE.ACCT.AGE</th>\n",
       "      <th>CREDIT.HISTORY.LENGTH</th>\n",
       "      <th>NO.OF_INQUIRIES</th>\n",
       "      <th>loan_default</th>\n",
       "    </tr>\n",
       "  </thead>\n",
       "  <tbody>\n",
       "    <tr>\n",
       "      <th>0</th>\n",
       "      <td>420825</td>\n",
       "      <td>50578</td>\n",
       "      <td>58400</td>\n",
       "      <td>89.55</td>\n",
       "      <td>67</td>\n",
       "      <td>22807</td>\n",
       "      <td>45</td>\n",
       "      <td>1441</td>\n",
       "      <td>01-01-84</td>\n",
       "      <td>Salaried</td>\n",
       "      <td>...</td>\n",
       "      <td>0</td>\n",
       "      <td>0</td>\n",
       "      <td>0</td>\n",
       "      <td>0</td>\n",
       "      <td>0</td>\n",
       "      <td>0</td>\n",
       "      <td>0yrs 0mon</td>\n",
       "      <td>0yrs 0mon</td>\n",
       "      <td>0</td>\n",
       "      <td>0</td>\n",
       "    </tr>\n",
       "    <tr>\n",
       "      <th>1</th>\n",
       "      <td>537409</td>\n",
       "      <td>47145</td>\n",
       "      <td>65550</td>\n",
       "      <td>73.23</td>\n",
       "      <td>67</td>\n",
       "      <td>22807</td>\n",
       "      <td>45</td>\n",
       "      <td>1502</td>\n",
       "      <td>31-07-85</td>\n",
       "      <td>Self employed</td>\n",
       "      <td>...</td>\n",
       "      <td>0</td>\n",
       "      <td>0</td>\n",
       "      <td>1991</td>\n",
       "      <td>0</td>\n",
       "      <td>0</td>\n",
       "      <td>1</td>\n",
       "      <td>1yrs 11mon</td>\n",
       "      <td>1yrs 11mon</td>\n",
       "      <td>0</td>\n",
       "      <td>1</td>\n",
       "    </tr>\n",
       "    <tr>\n",
       "      <th>2</th>\n",
       "      <td>417566</td>\n",
       "      <td>53278</td>\n",
       "      <td>61360</td>\n",
       "      <td>89.63</td>\n",
       "      <td>67</td>\n",
       "      <td>22807</td>\n",
       "      <td>45</td>\n",
       "      <td>1497</td>\n",
       "      <td>24-08-85</td>\n",
       "      <td>Self employed</td>\n",
       "      <td>...</td>\n",
       "      <td>0</td>\n",
       "      <td>0</td>\n",
       "      <td>0</td>\n",
       "      <td>0</td>\n",
       "      <td>0</td>\n",
       "      <td>0</td>\n",
       "      <td>0yrs 0mon</td>\n",
       "      <td>0yrs 0mon</td>\n",
       "      <td>0</td>\n",
       "      <td>0</td>\n",
       "    </tr>\n",
       "    <tr>\n",
       "      <th>3</th>\n",
       "      <td>624493</td>\n",
       "      <td>57513</td>\n",
       "      <td>66113</td>\n",
       "      <td>88.48</td>\n",
       "      <td>67</td>\n",
       "      <td>22807</td>\n",
       "      <td>45</td>\n",
       "      <td>1501</td>\n",
       "      <td>30-12-93</td>\n",
       "      <td>Self employed</td>\n",
       "      <td>...</td>\n",
       "      <td>0</td>\n",
       "      <td>0</td>\n",
       "      <td>31</td>\n",
       "      <td>0</td>\n",
       "      <td>0</td>\n",
       "      <td>0</td>\n",
       "      <td>0yrs 8mon</td>\n",
       "      <td>1yrs 3mon</td>\n",
       "      <td>1</td>\n",
       "      <td>1</td>\n",
       "    </tr>\n",
       "    <tr>\n",
       "      <th>4</th>\n",
       "      <td>539055</td>\n",
       "      <td>52378</td>\n",
       "      <td>60300</td>\n",
       "      <td>88.39</td>\n",
       "      <td>67</td>\n",
       "      <td>22807</td>\n",
       "      <td>45</td>\n",
       "      <td>1495</td>\n",
       "      <td>09-12-77</td>\n",
       "      <td>Self employed</td>\n",
       "      <td>...</td>\n",
       "      <td>0</td>\n",
       "      <td>0</td>\n",
       "      <td>0</td>\n",
       "      <td>0</td>\n",
       "      <td>0</td>\n",
       "      <td>0</td>\n",
       "      <td>0yrs 0mon</td>\n",
       "      <td>0yrs 0mon</td>\n",
       "      <td>1</td>\n",
       "      <td>1</td>\n",
       "    </tr>\n",
       "  </tbody>\n",
       "</table>\n",
       "<p>5 rows × 41 columns</p>\n",
       "</div>"
      ],
      "text/plain": [
       "   UniqueID  disbursed_amount  asset_cost    ltv  branch_id  supplier_id  \\\n",
       "0    420825             50578       58400  89.55         67        22807   \n",
       "1    537409             47145       65550  73.23         67        22807   \n",
       "2    417566             53278       61360  89.63         67        22807   \n",
       "3    624493             57513       66113  88.48         67        22807   \n",
       "4    539055             52378       60300  88.39         67        22807   \n",
       "\n",
       "   manufacturer_id  Current_pincode_ID Date.of.Birth Employment.Type  ...  \\\n",
       "0               45                1441      01-01-84        Salaried  ...   \n",
       "1               45                1502      31-07-85   Self employed  ...   \n",
       "2               45                1497      24-08-85   Self employed  ...   \n",
       "3               45                1501      30-12-93   Self employed  ...   \n",
       "4               45                1495      09-12-77   Self employed  ...   \n",
       "\n",
       "  SEC.SANCTIONED.AMOUNT  SEC.DISBURSED.AMOUNT  PRIMARY.INSTAL.AMT  \\\n",
       "0                     0                     0                   0   \n",
       "1                     0                     0                1991   \n",
       "2                     0                     0                   0   \n",
       "3                     0                     0                  31   \n",
       "4                     0                     0                   0   \n",
       "\n",
       "   SEC.INSTAL.AMT  NEW.ACCTS.IN.LAST.SIX.MONTHS  \\\n",
       "0               0                             0   \n",
       "1               0                             0   \n",
       "2               0                             0   \n",
       "3               0                             0   \n",
       "4               0                             0   \n",
       "\n",
       "   DELINQUENT.ACCTS.IN.LAST.SIX.MONTHS  AVERAGE.ACCT.AGE  \\\n",
       "0                                    0         0yrs 0mon   \n",
       "1                                    1        1yrs 11mon   \n",
       "2                                    0         0yrs 0mon   \n",
       "3                                    0         0yrs 8mon   \n",
       "4                                    0         0yrs 0mon   \n",
       "\n",
       "   CREDIT.HISTORY.LENGTH  NO.OF_INQUIRIES  loan_default  \n",
       "0              0yrs 0mon                0             0  \n",
       "1             1yrs 11mon                0             1  \n",
       "2              0yrs 0mon                0             0  \n",
       "3              1yrs 3mon                1             1  \n",
       "4              0yrs 0mon                1             1  \n",
       "\n",
       "[5 rows x 41 columns]"
      ]
     },
     "execution_count": 3,
     "metadata": {},
     "output_type": "execute_result"
    }
   ],
   "source": [
    "# View data\n",
    "raw_df.head()"
   ]
  },
  {
   "cell_type": "code",
   "execution_count": 4,
   "id": "3d6d9fcd",
   "metadata": {},
   "outputs": [
    {
     "data": {
      "text/html": [
       "<div>\n",
       "<style scoped>\n",
       "    .dataframe tbody tr th:only-of-type {\n",
       "        vertical-align: middle;\n",
       "    }\n",
       "\n",
       "    .dataframe tbody tr th {\n",
       "        vertical-align: top;\n",
       "    }\n",
       "\n",
       "    .dataframe thead th {\n",
       "        text-align: right;\n",
       "    }\n",
       "</style>\n",
       "<table border=\"1\" class=\"dataframe\">\n",
       "  <thead>\n",
       "    <tr style=\"text-align: right;\">\n",
       "      <th></th>\n",
       "      <th>UniqueID</th>\n",
       "      <th>disbursed_amount</th>\n",
       "      <th>asset_cost</th>\n",
       "      <th>ltv</th>\n",
       "      <th>branch_id</th>\n",
       "      <th>supplier_id</th>\n",
       "      <th>manufacturer_id</th>\n",
       "      <th>Current_pincode_ID</th>\n",
       "      <th>State_ID</th>\n",
       "      <th>Employee_code_ID</th>\n",
       "      <th>...</th>\n",
       "      <th>SEC.OVERDUE.ACCTS</th>\n",
       "      <th>SEC.CURRENT.BALANCE</th>\n",
       "      <th>SEC.SANCTIONED.AMOUNT</th>\n",
       "      <th>SEC.DISBURSED.AMOUNT</th>\n",
       "      <th>PRIMARY.INSTAL.AMT</th>\n",
       "      <th>SEC.INSTAL.AMT</th>\n",
       "      <th>NEW.ACCTS.IN.LAST.SIX.MONTHS</th>\n",
       "      <th>DELINQUENT.ACCTS.IN.LAST.SIX.MONTHS</th>\n",
       "      <th>NO.OF_INQUIRIES</th>\n",
       "      <th>loan_default</th>\n",
       "    </tr>\n",
       "  </thead>\n",
       "  <tbody>\n",
       "    <tr>\n",
       "      <th>count</th>\n",
       "      <td>233154.000</td>\n",
       "      <td>233154.000</td>\n",
       "      <td>233154.000</td>\n",
       "      <td>233154.000</td>\n",
       "      <td>233154.000</td>\n",
       "      <td>233154.000</td>\n",
       "      <td>233154.000</td>\n",
       "      <td>233154.000</td>\n",
       "      <td>233154.000</td>\n",
       "      <td>233154.000</td>\n",
       "      <td>...</td>\n",
       "      <td>233154.000</td>\n",
       "      <td>2.331540e+05</td>\n",
       "      <td>2.331540e+05</td>\n",
       "      <td>2.331540e+05</td>\n",
       "      <td>2.331540e+05</td>\n",
       "      <td>233154.000</td>\n",
       "      <td>233154.000</td>\n",
       "      <td>233154.000</td>\n",
       "      <td>233154.000</td>\n",
       "      <td>233154.000</td>\n",
       "    </tr>\n",
       "    <tr>\n",
       "      <th>mean</th>\n",
       "      <td>535917.573</td>\n",
       "      <td>54356.994</td>\n",
       "      <td>75865.068</td>\n",
       "      <td>74.747</td>\n",
       "      <td>72.936</td>\n",
       "      <td>19638.635</td>\n",
       "      <td>69.028</td>\n",
       "      <td>3396.880</td>\n",
       "      <td>7.262</td>\n",
       "      <td>1549.477</td>\n",
       "      <td>...</td>\n",
       "      <td>0.007</td>\n",
       "      <td>5.427793e+03</td>\n",
       "      <td>7.295923e+03</td>\n",
       "      <td>7.179998e+03</td>\n",
       "      <td>1.310548e+04</td>\n",
       "      <td>323.268</td>\n",
       "      <td>0.382</td>\n",
       "      <td>0.097</td>\n",
       "      <td>0.207</td>\n",
       "      <td>0.217</td>\n",
       "    </tr>\n",
       "    <tr>\n",
       "      <th>std</th>\n",
       "      <td>68315.694</td>\n",
       "      <td>12971.314</td>\n",
       "      <td>18944.781</td>\n",
       "      <td>11.457</td>\n",
       "      <td>69.835</td>\n",
       "      <td>3491.950</td>\n",
       "      <td>22.141</td>\n",
       "      <td>2238.148</td>\n",
       "      <td>4.482</td>\n",
       "      <td>975.261</td>\n",
       "      <td>...</td>\n",
       "      <td>0.111</td>\n",
       "      <td>1.702370e+05</td>\n",
       "      <td>1.831560e+05</td>\n",
       "      <td>1.825925e+05</td>\n",
       "      <td>1.513679e+05</td>\n",
       "      <td>15553.691</td>\n",
       "      <td>0.955</td>\n",
       "      <td>0.384</td>\n",
       "      <td>0.706</td>\n",
       "      <td>0.412</td>\n",
       "    </tr>\n",
       "    <tr>\n",
       "      <th>min</th>\n",
       "      <td>417428.000</td>\n",
       "      <td>13320.000</td>\n",
       "      <td>37000.000</td>\n",
       "      <td>10.030</td>\n",
       "      <td>1.000</td>\n",
       "      <td>10524.000</td>\n",
       "      <td>45.000</td>\n",
       "      <td>1.000</td>\n",
       "      <td>1.000</td>\n",
       "      <td>1.000</td>\n",
       "      <td>...</td>\n",
       "      <td>0.000</td>\n",
       "      <td>-5.746470e+05</td>\n",
       "      <td>0.000000e+00</td>\n",
       "      <td>0.000000e+00</td>\n",
       "      <td>0.000000e+00</td>\n",
       "      <td>0.000</td>\n",
       "      <td>0.000</td>\n",
       "      <td>0.000</td>\n",
       "      <td>0.000</td>\n",
       "      <td>0.000</td>\n",
       "    </tr>\n",
       "    <tr>\n",
       "      <th>25%</th>\n",
       "      <td>476786.250</td>\n",
       "      <td>47145.000</td>\n",
       "      <td>65717.000</td>\n",
       "      <td>68.880</td>\n",
       "      <td>14.000</td>\n",
       "      <td>16535.000</td>\n",
       "      <td>48.000</td>\n",
       "      <td>1511.000</td>\n",
       "      <td>4.000</td>\n",
       "      <td>713.000</td>\n",
       "      <td>...</td>\n",
       "      <td>0.000</td>\n",
       "      <td>0.000000e+00</td>\n",
       "      <td>0.000000e+00</td>\n",
       "      <td>0.000000e+00</td>\n",
       "      <td>0.000000e+00</td>\n",
       "      <td>0.000</td>\n",
       "      <td>0.000</td>\n",
       "      <td>0.000</td>\n",
       "      <td>0.000</td>\n",
       "      <td>0.000</td>\n",
       "    </tr>\n",
       "    <tr>\n",
       "      <th>50%</th>\n",
       "      <td>535978.500</td>\n",
       "      <td>53803.000</td>\n",
       "      <td>70946.000</td>\n",
       "      <td>76.800</td>\n",
       "      <td>61.000</td>\n",
       "      <td>20333.000</td>\n",
       "      <td>86.000</td>\n",
       "      <td>2970.000</td>\n",
       "      <td>6.000</td>\n",
       "      <td>1451.000</td>\n",
       "      <td>...</td>\n",
       "      <td>0.000</td>\n",
       "      <td>0.000000e+00</td>\n",
       "      <td>0.000000e+00</td>\n",
       "      <td>0.000000e+00</td>\n",
       "      <td>0.000000e+00</td>\n",
       "      <td>0.000</td>\n",
       "      <td>0.000</td>\n",
       "      <td>0.000</td>\n",
       "      <td>0.000</td>\n",
       "      <td>0.000</td>\n",
       "    </tr>\n",
       "    <tr>\n",
       "      <th>75%</th>\n",
       "      <td>595039.750</td>\n",
       "      <td>60413.000</td>\n",
       "      <td>79201.750</td>\n",
       "      <td>83.670</td>\n",
       "      <td>130.000</td>\n",
       "      <td>23000.000</td>\n",
       "      <td>86.000</td>\n",
       "      <td>5677.000</td>\n",
       "      <td>10.000</td>\n",
       "      <td>2362.000</td>\n",
       "      <td>...</td>\n",
       "      <td>0.000</td>\n",
       "      <td>0.000000e+00</td>\n",
       "      <td>0.000000e+00</td>\n",
       "      <td>0.000000e+00</td>\n",
       "      <td>1.999000e+03</td>\n",
       "      <td>0.000</td>\n",
       "      <td>0.000</td>\n",
       "      <td>0.000</td>\n",
       "      <td>0.000</td>\n",
       "      <td>0.000</td>\n",
       "    </tr>\n",
       "    <tr>\n",
       "      <th>max</th>\n",
       "      <td>671084.000</td>\n",
       "      <td>990572.000</td>\n",
       "      <td>1628992.000</td>\n",
       "      <td>95.000</td>\n",
       "      <td>261.000</td>\n",
       "      <td>24803.000</td>\n",
       "      <td>156.000</td>\n",
       "      <td>7345.000</td>\n",
       "      <td>22.000</td>\n",
       "      <td>3795.000</td>\n",
       "      <td>...</td>\n",
       "      <td>8.000</td>\n",
       "      <td>3.603285e+07</td>\n",
       "      <td>3.000000e+07</td>\n",
       "      <td>3.000000e+07</td>\n",
       "      <td>2.564281e+07</td>\n",
       "      <td>4170901.000</td>\n",
       "      <td>35.000</td>\n",
       "      <td>20.000</td>\n",
       "      <td>36.000</td>\n",
       "      <td>1.000</td>\n",
       "    </tr>\n",
       "  </tbody>\n",
       "</table>\n",
       "<p>8 rows × 35 columns</p>\n",
       "</div>"
      ],
      "text/plain": [
       "         UniqueID  disbursed_amount   asset_cost         ltv   branch_id  \\\n",
       "count  233154.000        233154.000   233154.000  233154.000  233154.000   \n",
       "mean   535917.573         54356.994    75865.068      74.747      72.936   \n",
       "std     68315.694         12971.314    18944.781      11.457      69.835   \n",
       "min    417428.000         13320.000    37000.000      10.030       1.000   \n",
       "25%    476786.250         47145.000    65717.000      68.880      14.000   \n",
       "50%    535978.500         53803.000    70946.000      76.800      61.000   \n",
       "75%    595039.750         60413.000    79201.750      83.670     130.000   \n",
       "max    671084.000        990572.000  1628992.000      95.000     261.000   \n",
       "\n",
       "       supplier_id  manufacturer_id  Current_pincode_ID    State_ID  \\\n",
       "count   233154.000       233154.000          233154.000  233154.000   \n",
       "mean     19638.635           69.028            3396.880       7.262   \n",
       "std       3491.950           22.141            2238.148       4.482   \n",
       "min      10524.000           45.000               1.000       1.000   \n",
       "25%      16535.000           48.000            1511.000       4.000   \n",
       "50%      20333.000           86.000            2970.000       6.000   \n",
       "75%      23000.000           86.000            5677.000      10.000   \n",
       "max      24803.000          156.000            7345.000      22.000   \n",
       "\n",
       "       Employee_code_ID  ...  SEC.OVERDUE.ACCTS  SEC.CURRENT.BALANCE  \\\n",
       "count        233154.000  ...         233154.000         2.331540e+05   \n",
       "mean           1549.477  ...              0.007         5.427793e+03   \n",
       "std             975.261  ...              0.111         1.702370e+05   \n",
       "min               1.000  ...              0.000        -5.746470e+05   \n",
       "25%             713.000  ...              0.000         0.000000e+00   \n",
       "50%            1451.000  ...              0.000         0.000000e+00   \n",
       "75%            2362.000  ...              0.000         0.000000e+00   \n",
       "max            3795.000  ...              8.000         3.603285e+07   \n",
       "\n",
       "       SEC.SANCTIONED.AMOUNT  SEC.DISBURSED.AMOUNT  PRIMARY.INSTAL.AMT  \\\n",
       "count           2.331540e+05          2.331540e+05        2.331540e+05   \n",
       "mean            7.295923e+03          7.179998e+03        1.310548e+04   \n",
       "std             1.831560e+05          1.825925e+05        1.513679e+05   \n",
       "min             0.000000e+00          0.000000e+00        0.000000e+00   \n",
       "25%             0.000000e+00          0.000000e+00        0.000000e+00   \n",
       "50%             0.000000e+00          0.000000e+00        0.000000e+00   \n",
       "75%             0.000000e+00          0.000000e+00        1.999000e+03   \n",
       "max             3.000000e+07          3.000000e+07        2.564281e+07   \n",
       "\n",
       "       SEC.INSTAL.AMT  NEW.ACCTS.IN.LAST.SIX.MONTHS  \\\n",
       "count      233154.000                    233154.000   \n",
       "mean          323.268                         0.382   \n",
       "std         15553.691                         0.955   \n",
       "min             0.000                         0.000   \n",
       "25%             0.000                         0.000   \n",
       "50%             0.000                         0.000   \n",
       "75%             0.000                         0.000   \n",
       "max       4170901.000                        35.000   \n",
       "\n",
       "       DELINQUENT.ACCTS.IN.LAST.SIX.MONTHS  NO.OF_INQUIRIES  loan_default  \n",
       "count                           233154.000       233154.000    233154.000  \n",
       "mean                                 0.097            0.207         0.217  \n",
       "std                                  0.384            0.706         0.412  \n",
       "min                                  0.000            0.000         0.000  \n",
       "25%                                  0.000            0.000         0.000  \n",
       "50%                                  0.000            0.000         0.000  \n",
       "75%                                  0.000            0.000         0.000  \n",
       "max                                 20.000           36.000         1.000  \n",
       "\n",
       "[8 rows x 35 columns]"
      ]
     },
     "execution_count": 4,
     "metadata": {},
     "output_type": "execute_result"
    }
   ],
   "source": [
    "raw_df.describe().round(3)"
   ]
  },
  {
   "cell_type": "code",
   "execution_count": 5,
   "id": "66f05c5a",
   "metadata": {},
   "outputs": [
    {
     "data": {
      "text/plain": [
       "UniqueID                                 int64\n",
       "PRI.NO.OF.ACCTS                          int64\n",
       "PRI.ACTIVE.ACCTS                         int64\n",
       "PRI.OVERDUE.ACCTS                        int64\n",
       "PRI.CURRENT.BALANCE                      int64\n",
       "PRI.SANCTIONED.AMOUNT                    int64\n",
       "PRI.DISBURSED.AMOUNT                     int64\n",
       "SEC.NO.OF.ACCTS                          int64\n",
       "NO.OF_INQUIRIES                          int64\n",
       "SEC.ACTIVE.ACCTS                         int64\n",
       "SEC.CURRENT.BALANCE                      int64\n",
       "SEC.SANCTIONED.AMOUNT                    int64\n",
       "SEC.DISBURSED.AMOUNT                     int64\n",
       "PRIMARY.INSTAL.AMT                       int64\n",
       "SEC.INSTAL.AMT                           int64\n",
       "NEW.ACCTS.IN.LAST.SIX.MONTHS             int64\n",
       "DELINQUENT.ACCTS.IN.LAST.SIX.MONTHS      int64\n",
       "SEC.OVERDUE.ACCTS                        int64\n",
       "PERFORM_CNS.SCORE                        int64\n",
       "loan_default                             int64\n",
       "Driving_flag                             int64\n",
       "disbursed_amount                         int64\n",
       "asset_cost                               int64\n",
       "branch_id                                int64\n",
       "supplier_id                              int64\n",
       "manufacturer_id                          int64\n",
       "Passport_flag                            int64\n",
       "Current_pincode_ID                       int64\n",
       "State_ID                                 int64\n",
       "Employee_code_ID                         int64\n",
       "MobileNo_Avl_Flag                        int64\n",
       "Aadhar_flag                              int64\n",
       "PAN_flag                                 int64\n",
       "VoterID_flag                             int64\n",
       "ltv                                    float64\n",
       "Employment.Type                         object\n",
       "Date.of.Birth                           object\n",
       "AVERAGE.ACCT.AGE                        object\n",
       "CREDIT.HISTORY.LENGTH                   object\n",
       "DisbursalDate                           object\n",
       "PERFORM_CNS.SCORE.DESCRIPTION           object\n",
       "dtype: object"
      ]
     },
     "execution_count": 5,
     "metadata": {},
     "output_type": "execute_result"
    }
   ],
   "source": [
    "raw_df.dtypes.sort_values(ascending=True)"
   ]
  },
  {
   "cell_type": "code",
   "execution_count": 6,
   "id": "7e2cb82a",
   "metadata": {},
   "outputs": [
    {
     "data": {
      "text/html": [
       "<div>\n",
       "<style scoped>\n",
       "    .dataframe tbody tr th:only-of-type {\n",
       "        vertical-align: middle;\n",
       "    }\n",
       "\n",
       "    .dataframe tbody tr th {\n",
       "        vertical-align: top;\n",
       "    }\n",
       "\n",
       "    .dataframe thead th {\n",
       "        text-align: right;\n",
       "    }\n",
       "</style>\n",
       "<table border=\"1\" class=\"dataframe\">\n",
       "  <thead>\n",
       "    <tr style=\"text-align: right;\">\n",
       "      <th></th>\n",
       "      <th>absolute</th>\n",
       "      <th>percent</th>\n",
       "    </tr>\n",
       "  </thead>\n",
       "  <tbody>\n",
       "    <tr>\n",
       "      <th>0</th>\n",
       "      <td>182543</td>\n",
       "      <td>78.29</td>\n",
       "    </tr>\n",
       "    <tr>\n",
       "      <th>1</th>\n",
       "      <td>50611</td>\n",
       "      <td>21.71</td>\n",
       "    </tr>\n",
       "  </tbody>\n",
       "</table>\n",
       "</div>"
      ],
      "text/plain": [
       "   absolute  percent\n",
       "0    182543    78.29\n",
       "1     50611    21.71"
      ]
     },
     "metadata": {},
     "output_type": "display_data"
    }
   ],
   "source": [
    "loan = raw_df.loan_default.value_counts().to_frame().rename(columns={\"loan_default\":\"absolute\"})\n",
    "loan[\"percent\"] = (loan.apply(lambda x: x/x.sum()*100).round(2))\n",
    "display(loan)"
   ]
  },
  {
   "cell_type": "code",
   "execution_count": 7,
   "id": "1c91fa89",
   "metadata": {},
   "outputs": [
    {
     "data": {
      "image/png": "[encoded data removed]",
      "text/plain": [
       "<Figure size 432x288 with 1 Axes>"
      ]
     },
     "metadata": {},
     "output_type": "display_data"
    }
   ],
   "source": [
    "# Pie chart, where the slices will be ordered and plotted counter-clockwise:\n",
    "labels = 'Non Defaulters', 'Defaulters'\n",
    "sizes = list(raw_df['loan_default'].astype(bool).value_counts())\n",
    "explode = (0, 0.1)\n",
    "\n",
    "fig1, ax1 = plt.subplots()\n",
    "ax1.pie(sizes, explode=explode, labels=labels, autopct='%1.1f%%',\n",
    "        shadow=True, startangle=90)\n",
    "ax1.axis('equal')\n",
    "\n",
    "plt.show()"
   ]
  },
  {
   "cell_type": "markdown",
   "id": "73b638d6",
   "metadata": {},
   "source": [
    "Notice that the data is highly unbalanced and thus we will need to balance the data before it is fitted on to the model."
   ]
  },
  {
   "cell_type": "markdown",
   "id": "c233bbad",
   "metadata": {},
   "source": [
    "### Balance data"
   ]
  },
  {
   "cell_type": "markdown",
   "id": "c25c5b10",
   "metadata": {},
   "source": [
    "We shall balance the data by upsampling the minority group"
   ]
  },
  {
   "cell_type": "code",
   "execution_count": 8,
   "id": "bfd87c3a",
   "metadata": {},
   "outputs": [
    {
     "name": "stdout",
     "output_type": "stream",
     "text": [
      "Before Resampling:\n",
      "0    182543\n",
      "1     50611\n",
      "Name: loan_default, dtype: int64\n",
      "After Resampling:\n",
      "0    182543\n",
      "1    182543\n",
      "Name: loan_default, dtype: int64\n"
     ]
    }
   ],
   "source": [
    "print('Before Resampling:')\n",
    "print(raw_df['loan_default'].value_counts())\n",
    "df_majority = raw_df[raw_df['loan_default']==0]\n",
    "df_minority = raw_df[raw_df['loan_default']==1]\n",
    "\n",
    "\n",
    "df_minority_upsampled = resample(df_minority, \n",
    "                                 replace=True,                  # sample with replacement\n",
    "                                 n_samples=len(df_majority),    # to match majority class\n",
    "                                 random_state=123)              # reproducible results\n",
    "df_upsampled = pd.concat([df_majority, df_minority_upsampled])\n",
    "print('After Resampling:')\n",
    "print(df_upsampled['loan_default'].value_counts())"
   ]
  },
  {
   "cell_type": "code",
   "execution_count": 9,
   "id": "d70236fe",
   "metadata": {},
   "outputs": [
    {
     "data": {
      "text/html": [
       "<div>\n",
       "<style scoped>\n",
       "    .dataframe tbody tr th:only-of-type {\n",
       "        vertical-align: middle;\n",
       "    }\n",
       "\n",
       "    .dataframe tbody tr th {\n",
       "        vertical-align: top;\n",
       "    }\n",
       "\n",
       "    .dataframe thead th {\n",
       "        text-align: right;\n",
       "    }\n",
       "</style>\n",
       "<table border=\"1\" class=\"dataframe\">\n",
       "  <thead>\n",
       "    <tr style=\"text-align: right;\">\n",
       "      <th></th>\n",
       "      <th>Missing Values</th>\n",
       "    </tr>\n",
       "  </thead>\n",
       "  <tbody>\n",
       "    <tr>\n",
       "      <th>UniqueID</th>\n",
       "      <td>0</td>\n",
       "    </tr>\n",
       "    <tr>\n",
       "      <th>disbursed_amount</th>\n",
       "      <td>0</td>\n",
       "    </tr>\n",
       "    <tr>\n",
       "      <th>asset_cost</th>\n",
       "      <td>0</td>\n",
       "    </tr>\n",
       "    <tr>\n",
       "      <th>ltv</th>\n",
       "      <td>0</td>\n",
       "    </tr>\n",
       "    <tr>\n",
       "      <th>branch_id</th>\n",
       "      <td>0</td>\n",
       "    </tr>\n",
       "    <tr>\n",
       "      <th>supplier_id</th>\n",
       "      <td>0</td>\n",
       "    </tr>\n",
       "    <tr>\n",
       "      <th>manufacturer_id</th>\n",
       "      <td>0</td>\n",
       "    </tr>\n",
       "    <tr>\n",
       "      <th>Current_pincode_ID</th>\n",
       "      <td>0</td>\n",
       "    </tr>\n",
       "    <tr>\n",
       "      <th>Date.of.Birth</th>\n",
       "      <td>0</td>\n",
       "    </tr>\n",
       "    <tr>\n",
       "      <th>Employment.Type</th>\n",
       "      <td>11875</td>\n",
       "    </tr>\n",
       "    <tr>\n",
       "      <th>DisbursalDate</th>\n",
       "      <td>0</td>\n",
       "    </tr>\n",
       "    <tr>\n",
       "      <th>State_ID</th>\n",
       "      <td>0</td>\n",
       "    </tr>\n",
       "    <tr>\n",
       "      <th>Employee_code_ID</th>\n",
       "      <td>0</td>\n",
       "    </tr>\n",
       "    <tr>\n",
       "      <th>MobileNo_Avl_Flag</th>\n",
       "      <td>0</td>\n",
       "    </tr>\n",
       "    <tr>\n",
       "      <th>Aadhar_flag</th>\n",
       "      <td>0</td>\n",
       "    </tr>\n",
       "    <tr>\n",
       "      <th>PAN_flag</th>\n",
       "      <td>0</td>\n",
       "    </tr>\n",
       "    <tr>\n",
       "      <th>VoterID_flag</th>\n",
       "      <td>0</td>\n",
       "    </tr>\n",
       "    <tr>\n",
       "      <th>Driving_flag</th>\n",
       "      <td>0</td>\n",
       "    </tr>\n",
       "    <tr>\n",
       "      <th>Passport_flag</th>\n",
       "      <td>0</td>\n",
       "    </tr>\n",
       "    <tr>\n",
       "      <th>PERFORM_CNS.SCORE</th>\n",
       "      <td>0</td>\n",
       "    </tr>\n",
       "    <tr>\n",
       "      <th>PERFORM_CNS.SCORE.DESCRIPTION</th>\n",
       "      <td>0</td>\n",
       "    </tr>\n",
       "    <tr>\n",
       "      <th>PRI.NO.OF.ACCTS</th>\n",
       "      <td>0</td>\n",
       "    </tr>\n",
       "    <tr>\n",
       "      <th>PRI.ACTIVE.ACCTS</th>\n",
       "      <td>0</td>\n",
       "    </tr>\n",
       "    <tr>\n",
       "      <th>PRI.OVERDUE.ACCTS</th>\n",
       "      <td>0</td>\n",
       "    </tr>\n",
       "    <tr>\n",
       "      <th>PRI.CURRENT.BALANCE</th>\n",
       "      <td>0</td>\n",
       "    </tr>\n",
       "    <tr>\n",
       "      <th>PRI.SANCTIONED.AMOUNT</th>\n",
       "      <td>0</td>\n",
       "    </tr>\n",
       "    <tr>\n",
       "      <th>PRI.DISBURSED.AMOUNT</th>\n",
       "      <td>0</td>\n",
       "    </tr>\n",
       "    <tr>\n",
       "      <th>SEC.NO.OF.ACCTS</th>\n",
       "      <td>0</td>\n",
       "    </tr>\n",
       "    <tr>\n",
       "      <th>SEC.ACTIVE.ACCTS</th>\n",
       "      <td>0</td>\n",
       "    </tr>\n",
       "    <tr>\n",
       "      <th>SEC.OVERDUE.ACCTS</th>\n",
       "      <td>0</td>\n",
       "    </tr>\n",
       "    <tr>\n",
       "      <th>SEC.CURRENT.BALANCE</th>\n",
       "      <td>0</td>\n",
       "    </tr>\n",
       "    <tr>\n",
       "      <th>SEC.SANCTIONED.AMOUNT</th>\n",
       "      <td>0</td>\n",
       "    </tr>\n",
       "    <tr>\n",
       "      <th>SEC.DISBURSED.AMOUNT</th>\n",
       "      <td>0</td>\n",
       "    </tr>\n",
       "    <tr>\n",
       "      <th>PRIMARY.INSTAL.AMT</th>\n",
       "      <td>0</td>\n",
       "    </tr>\n",
       "    <tr>\n",
       "      <th>SEC.INSTAL.AMT</th>\n",
       "      <td>0</td>\n",
       "    </tr>\n",
       "    <tr>\n",
       "      <th>NEW.ACCTS.IN.LAST.SIX.MONTHS</th>\n",
       "      <td>0</td>\n",
       "    </tr>\n",
       "    <tr>\n",
       "      <th>DELINQUENT.ACCTS.IN.LAST.SIX.MONTHS</th>\n",
       "      <td>0</td>\n",
       "    </tr>\n",
       "    <tr>\n",
       "      <th>AVERAGE.ACCT.AGE</th>\n",
       "      <td>0</td>\n",
       "    </tr>\n",
       "    <tr>\n",
       "      <th>CREDIT.HISTORY.LENGTH</th>\n",
       "      <td>0</td>\n",
       "    </tr>\n",
       "    <tr>\n",
       "      <th>NO.OF_INQUIRIES</th>\n",
       "      <td>0</td>\n",
       "    </tr>\n",
       "    <tr>\n",
       "      <th>loan_default</th>\n",
       "      <td>0</td>\n",
       "    </tr>\n",
       "  </tbody>\n",
       "</table>\n",
       "</div>"
      ],
      "text/plain": [
       "                                     Missing Values\n",
       "UniqueID                                          0\n",
       "disbursed_amount                                  0\n",
       "asset_cost                                        0\n",
       "ltv                                               0\n",
       "branch_id                                         0\n",
       "supplier_id                                       0\n",
       "manufacturer_id                                   0\n",
       "Current_pincode_ID                                0\n",
       "Date.of.Birth                                     0\n",
       "Employment.Type                               11875\n",
       "DisbursalDate                                     0\n",
       "State_ID                                          0\n",
       "Employee_code_ID                                  0\n",
       "MobileNo_Avl_Flag                                 0\n",
       "Aadhar_flag                                       0\n",
       "PAN_flag                                          0\n",
       "VoterID_flag                                      0\n",
       "Driving_flag                                      0\n",
       "Passport_flag                                     0\n",
       "PERFORM_CNS.SCORE                                 0\n",
       "PERFORM_CNS.SCORE.DESCRIPTION                     0\n",
       "PRI.NO.OF.ACCTS                                   0\n",
       "PRI.ACTIVE.ACCTS                                  0\n",
       "PRI.OVERDUE.ACCTS                                 0\n",
       "PRI.CURRENT.BALANCE                               0\n",
       "PRI.SANCTIONED.AMOUNT                             0\n",
       "PRI.DISBURSED.AMOUNT                              0\n",
       "SEC.NO.OF.ACCTS                                   0\n",
       "SEC.ACTIVE.ACCTS                                  0\n",
       "SEC.OVERDUE.ACCTS                                 0\n",
       "SEC.CURRENT.BALANCE                               0\n",
       "SEC.SANCTIONED.AMOUNT                             0\n",
       "SEC.DISBURSED.AMOUNT                              0\n",
       "PRIMARY.INSTAL.AMT                                0\n",
       "SEC.INSTAL.AMT                                    0\n",
       "NEW.ACCTS.IN.LAST.SIX.MONTHS                      0\n",
       "DELINQUENT.ACCTS.IN.LAST.SIX.MONTHS               0\n",
       "AVERAGE.ACCT.AGE                                  0\n",
       "CREDIT.HISTORY.LENGTH                             0\n",
       "NO.OF_INQUIRIES                                   0\n",
       "loan_default                                      0"
      ]
     },
     "execution_count": 9,
     "metadata": {},
     "output_type": "execute_result"
    }
   ],
   "source": [
    "# Check for missing values\n",
    "df_upsampled.isnull().sum().to_frame().rename(columns={0:\"Missing Values\"})"
   ]
  },
  {
   "cell_type": "markdown",
   "id": "055395fc",
   "metadata": {},
   "source": [
    "Employment type has missing values which need to be taken care of during pre-processing"
   ]
  },
  {
   "cell_type": "markdown",
   "id": "98537ce8",
   "metadata": {},
   "source": [
    "### Data pre-processing "
   ]
  },
  {
   "cell_type": "code",
   "execution_count": 10,
   "id": "44772ef8",
   "metadata": {},
   "outputs": [],
   "source": [
    "# Conver year, months to year float\n",
    "def convert_years_months_to_float(yearmonth):\n",
    "    split_per = yearmonth.split(' ')\n",
    "    years = split_per[0][:-3]\n",
    "    months = split_per[1][:-3]\n",
    "    return int(years) + int(months)/12"
   ]
  },
  {
   "cell_type": "code",
   "execution_count": 11,
   "id": "56dcaf1d",
   "metadata": {},
   "outputs": [],
   "source": [
    "# Get age from DOB and drop DOB. We are likely to get more insights from age as compared to DOB.\n",
    "def calculateAge(birthDate):\n",
    "    birthDate = datetime.strptime(birthDate, \"%d-%m-%y\").date()\n",
    "    today = date.today()\n",
    "    age = today.year - birthDate.year - ((today.month, today.day) < (birthDate.month, birthDate.day))\n",
    "    return age"
   ]
  },
  {
   "cell_type": "code",
   "execution_count": 12,
   "id": "c5eda05e",
   "metadata": {},
   "outputs": [],
   "source": [
    "df_upsampled['Age'] = df_upsampled['Date.of.Birth'].apply(calculateAge)\n",
    "df_upsampled = df_upsampled.drop('Date.of.Birth',axis=1)\n",
    "\n",
    "df_upsampled['AVERAGE_ACCT_AGE'] = df_upsampled['AVERAGE.ACCT.AGE'].apply(convert_years_months_to_float)\n",
    "df_upsampled = df_upsampled.drop('AVERAGE.ACCT.AGE',axis=1)\n",
    "\n",
    "df_upsampled['CREDIT_HISTORY_LENGTH'] = df_upsampled['CREDIT.HISTORY.LENGTH'].apply(convert_years_months_to_float)\n",
    "df_upsampled = df_upsampled.drop('CREDIT.HISTORY.LENGTH',axis=1)"
   ]
  },
  {
   "cell_type": "markdown",
   "id": "bf0a6d50",
   "metadata": {},
   "source": [
    "We have observed that Employment type has missing values. We need to handle that."
   ]
  },
  {
   "cell_type": "code",
   "execution_count": 13,
   "id": "72ca8218",
   "metadata": {},
   "outputs": [],
   "source": [
    "df_upsampled['Employment.Type'] = df_upsampled['Employment.Type'].fillna(\"Missing\")"
   ]
  },
  {
   "cell_type": "code",
   "execution_count": 14,
   "id": "d722869a",
   "metadata": {},
   "outputs": [
    {
     "data": {
      "text/plain": [
       "1    365086\n",
       "Name: MobileNo_Avl_Flag, dtype: int64"
      ]
     },
     "execution_count": 14,
     "metadata": {},
     "output_type": "execute_result"
    }
   ],
   "source": [
    "df_upsampled.MobileNo_Avl_Flag.value_counts()"
   ]
  },
  {
   "cell_type": "code",
   "execution_count": 15,
   "id": "36c5d3c0",
   "metadata": {},
   "outputs": [
    {
     "data": {
      "text/plain": [
       "0    363048\n",
       "1      1684\n",
       "2       211\n",
       "3        85\n",
       "4        32\n",
       "5        14\n",
       "6        10\n",
       "8         1\n",
       "7         1\n",
       "Name: SEC.OVERDUE.ACCTS, dtype: int64"
      ]
     },
     "execution_count": 15,
     "metadata": {},
     "output_type": "execute_result"
    }
   ],
   "source": [
    "df_upsampled['SEC.OVERDUE.ACCTS'].value_counts()"
   ]
  },
  {
   "cell_type": "code",
   "execution_count": 16,
   "id": "5d28a07a",
   "metadata": {},
   "outputs": [
    {
     "data": {
      "text/plain": [
       "loan_default                           1.000000\n",
       "ltv                                    0.123027\n",
       "disbursed_amount                       0.095516\n",
       "State_ID                               0.058374\n",
       "VoterID_flag                           0.052043\n",
       "NO.OF_INQUIRIES                        0.047991\n",
       "PRI.OVERDUE.ACCTS                      0.047494\n",
       "DELINQUENT.ACCTS.IN.LAST.SIX.MONTHS    0.040104\n",
       "UniqueID                               0.038315\n",
       "branch_id                              0.036023\n",
       "Current_pincode_ID                     0.034228\n",
       "supplier_id                            0.033599\n",
       "Employee_code_ID                       0.027389\n",
       "asset_cost                             0.016631\n",
       "Age                                    0.008212\n",
       "PAN_flag                               0.003469\n",
       "SEC.OVERDUE.ACCTS                     -0.000975\n",
       "SEC.INSTAL.AMT                        -0.003588\n",
       "Driving_flag                          -0.005962\n",
       "PRI.DISBURSED.AMOUNT                  -0.006191\n",
       "PRI.SANCTIONED.AMOUNT                 -0.006261\n",
       "SEC.ACTIVE.ACCTS                      -0.007102\n",
       "SEC.CURRENT.BALANCE                   -0.007538\n",
       "SEC.DISBURSED.AMOUNT                  -0.008320\n",
       "SEC.SANCTIONED.AMOUNT                 -0.008446\n",
       "Passport_flag                         -0.010632\n",
       "SEC.NO.OF.ACCTS                       -0.011390\n",
       "PRIMARY.INSTAL.AMT                    -0.015508\n",
       "manufacturer_id                       -0.030218\n",
       "AVERAGE_ACCT_AGE                      -0.030705\n",
       "NEW.ACCTS.IN.LAST.SIX.MONTHS          -0.035782\n",
       "PRI.CURRENT.BALANCE                   -0.036555\n",
       "PRI.NO.OF.ACCTS                       -0.045209\n",
       "Aadhar_flag                           -0.050284\n",
       "CREDIT_HISTORY_LENGTH                 -0.053931\n",
       "PRI.ACTIVE.ACCTS                      -0.054109\n",
       "PERFORM_CNS.SCORE                     -0.071551\n",
       "MobileNo_Avl_Flag                           NaN\n",
       "Name: loan_default, dtype: float64"
      ]
     },
     "execution_count": 16,
     "metadata": {},
     "output_type": "execute_result"
    }
   ],
   "source": [
    "#Correlation Matrix calculation\n",
    "corr_mat = df_upsampled.corr()\n",
    "corr_mat['loan_default'].sort_values(ascending = False)"
   ]
  },
  {
   "cell_type": "code",
   "execution_count": 17,
   "id": "dd194a95",
   "metadata": {},
   "outputs": [
    {
     "data": {
      "text/html": [
       "<div>\n",
       "<style scoped>\n",
       "    .dataframe tbody tr th:only-of-type {\n",
       "        vertical-align: middle;\n",
       "    }\n",
       "\n",
       "    .dataframe tbody tr th {\n",
       "        vertical-align: top;\n",
       "    }\n",
       "\n",
       "    .dataframe thead th {\n",
       "        text-align: right;\n",
       "    }\n",
       "</style>\n",
       "<table border=\"1\" class=\"dataframe\">\n",
       "  <thead>\n",
       "    <tr style=\"text-align: right;\">\n",
       "      <th></th>\n",
       "      <th>UniqueID</th>\n",
       "      <th>disbursed_amount</th>\n",
       "      <th>asset_cost</th>\n",
       "      <th>ltv</th>\n",
       "      <th>branch_id</th>\n",
       "      <th>supplier_id</th>\n",
       "      <th>manufacturer_id</th>\n",
       "      <th>Current_pincode_ID</th>\n",
       "      <th>Employment.Type</th>\n",
       "      <th>DisbursalDate</th>\n",
       "      <th>...</th>\n",
       "      <th>SEC.DISBURSED.AMOUNT</th>\n",
       "      <th>PRIMARY.INSTAL.AMT</th>\n",
       "      <th>SEC.INSTAL.AMT</th>\n",
       "      <th>NEW.ACCTS.IN.LAST.SIX.MONTHS</th>\n",
       "      <th>DELINQUENT.ACCTS.IN.LAST.SIX.MONTHS</th>\n",
       "      <th>NO.OF_INQUIRIES</th>\n",
       "      <th>loan_default</th>\n",
       "      <th>Age</th>\n",
       "      <th>AVERAGE_ACCT_AGE</th>\n",
       "      <th>CREDIT_HISTORY_LENGTH</th>\n",
       "    </tr>\n",
       "  </thead>\n",
       "  <tbody>\n",
       "    <tr>\n",
       "      <th>0</th>\n",
       "      <td>420825</td>\n",
       "      <td>50578</td>\n",
       "      <td>58400</td>\n",
       "      <td>89.55</td>\n",
       "      <td>67</td>\n",
       "      <td>22807</td>\n",
       "      <td>45</td>\n",
       "      <td>1441</td>\n",
       "      <td>Salaried</td>\n",
       "      <td>03-08-18</td>\n",
       "      <td>...</td>\n",
       "      <td>0</td>\n",
       "      <td>0</td>\n",
       "      <td>0</td>\n",
       "      <td>0</td>\n",
       "      <td>0</td>\n",
       "      <td>0</td>\n",
       "      <td>0</td>\n",
       "      <td>37</td>\n",
       "      <td>0.000000</td>\n",
       "      <td>0.000000</td>\n",
       "    </tr>\n",
       "    <tr>\n",
       "      <th>2</th>\n",
       "      <td>417566</td>\n",
       "      <td>53278</td>\n",
       "      <td>61360</td>\n",
       "      <td>89.63</td>\n",
       "      <td>67</td>\n",
       "      <td>22807</td>\n",
       "      <td>45</td>\n",
       "      <td>1497</td>\n",
       "      <td>Self employed</td>\n",
       "      <td>01-08-18</td>\n",
       "      <td>...</td>\n",
       "      <td>0</td>\n",
       "      <td>0</td>\n",
       "      <td>0</td>\n",
       "      <td>0</td>\n",
       "      <td>0</td>\n",
       "      <td>0</td>\n",
       "      <td>0</td>\n",
       "      <td>36</td>\n",
       "      <td>0.000000</td>\n",
       "      <td>0.000000</td>\n",
       "    </tr>\n",
       "    <tr>\n",
       "      <th>5</th>\n",
       "      <td>518279</td>\n",
       "      <td>54513</td>\n",
       "      <td>61900</td>\n",
       "      <td>89.66</td>\n",
       "      <td>67</td>\n",
       "      <td>22807</td>\n",
       "      <td>45</td>\n",
       "      <td>1501</td>\n",
       "      <td>Self employed</td>\n",
       "      <td>19-09-18</td>\n",
       "      <td>...</td>\n",
       "      <td>0</td>\n",
       "      <td>1347</td>\n",
       "      <td>0</td>\n",
       "      <td>0</td>\n",
       "      <td>0</td>\n",
       "      <td>0</td>\n",
       "      <td>0</td>\n",
       "      <td>31</td>\n",
       "      <td>1.750000</td>\n",
       "      <td>2.000000</td>\n",
       "    </tr>\n",
       "    <tr>\n",
       "      <th>6</th>\n",
       "      <td>529269</td>\n",
       "      <td>46349</td>\n",
       "      <td>61500</td>\n",
       "      <td>76.42</td>\n",
       "      <td>67</td>\n",
       "      <td>22807</td>\n",
       "      <td>45</td>\n",
       "      <td>1502</td>\n",
       "      <td>Salaried</td>\n",
       "      <td>23-09-18</td>\n",
       "      <td>...</td>\n",
       "      <td>0</td>\n",
       "      <td>0</td>\n",
       "      <td>0</td>\n",
       "      <td>0</td>\n",
       "      <td>0</td>\n",
       "      <td>0</td>\n",
       "      <td>0</td>\n",
       "      <td>33</td>\n",
       "      <td>0.000000</td>\n",
       "      <td>0.000000</td>\n",
       "    </tr>\n",
       "    <tr>\n",
       "      <th>7</th>\n",
       "      <td>510278</td>\n",
       "      <td>43894</td>\n",
       "      <td>61900</td>\n",
       "      <td>71.89</td>\n",
       "      <td>67</td>\n",
       "      <td>22807</td>\n",
       "      <td>45</td>\n",
       "      <td>1501</td>\n",
       "      <td>Salaried</td>\n",
       "      <td>16-09-18</td>\n",
       "      <td>...</td>\n",
       "      <td>0</td>\n",
       "      <td>0</td>\n",
       "      <td>0</td>\n",
       "      <td>0</td>\n",
       "      <td>0</td>\n",
       "      <td>0</td>\n",
       "      <td>0</td>\n",
       "      <td>32</td>\n",
       "      <td>0.166667</td>\n",
       "      <td>0.166667</td>\n",
       "    </tr>\n",
       "  </tbody>\n",
       "</table>\n",
       "<p>5 rows × 41 columns</p>\n",
       "</div>"
      ],
      "text/plain": [
       "   UniqueID  disbursed_amount  asset_cost    ltv  branch_id  supplier_id  \\\n",
       "0    420825             50578       58400  89.55         67        22807   \n",
       "2    417566             53278       61360  89.63         67        22807   \n",
       "5    518279             54513       61900  89.66         67        22807   \n",
       "6    529269             46349       61500  76.42         67        22807   \n",
       "7    510278             43894       61900  71.89         67        22807   \n",
       "\n",
       "   manufacturer_id  Current_pincode_ID Employment.Type DisbursalDate  ...  \\\n",
       "0               45                1441        Salaried      03-08-18  ...   \n",
       "2               45                1497   Self employed      01-08-18  ...   \n",
       "5               45                1501   Self employed      19-09-18  ...   \n",
       "6               45                1502        Salaried      23-09-18  ...   \n",
       "7               45                1501        Salaried      16-09-18  ...   \n",
       "\n",
       "   SEC.DISBURSED.AMOUNT  PRIMARY.INSTAL.AMT  SEC.INSTAL.AMT  \\\n",
       "0                     0                   0               0   \n",
       "2                     0                   0               0   \n",
       "5                     0                1347               0   \n",
       "6                     0                   0               0   \n",
       "7                     0                   0               0   \n",
       "\n",
       "   NEW.ACCTS.IN.LAST.SIX.MONTHS  DELINQUENT.ACCTS.IN.LAST.SIX.MONTHS  \\\n",
       "0                             0                                    0   \n",
       "2                             0                                    0   \n",
       "5                             0                                    0   \n",
       "6                             0                                    0   \n",
       "7                             0                                    0   \n",
       "\n",
       "   NO.OF_INQUIRIES  loan_default  Age  AVERAGE_ACCT_AGE CREDIT_HISTORY_LENGTH  \n",
       "0                0             0   37          0.000000              0.000000  \n",
       "2                0             0   36          0.000000              0.000000  \n",
       "5                0             0   31          1.750000              2.000000  \n",
       "6                0             0   33          0.000000              0.000000  \n",
       "7                0             0   32          0.166667              0.166667  \n",
       "\n",
       "[5 rows x 41 columns]"
      ]
     },
     "execution_count": 17,
     "metadata": {},
     "output_type": "execute_result"
    }
   ],
   "source": [
    "# We shall use the upsampled dataframe for model training\n",
    "df = df_upsampled\n",
    "df.head()"
   ]
  },
  {
   "cell_type": "markdown",
   "id": "d38de030",
   "metadata": {},
   "source": [
    "### Drop columns that offer very little or no information in training the models"
   ]
  },
  {
   "cell_type": "markdown",
   "id": "a1278c05",
   "metadata": {},
   "source": [
    "We need to drop columns that will not help the model\n",
    "1. The UniqueID is only an identifier.\n",
    "2. The MobileNo_Avl_Flag contains the same value all through.\n",
    "3. DisbursalDate: Logically, we do not expect a lot from the date a loan was disbursed.\n",
    "4. Employee_code_ID: The employee of the organization who logged the disbursement will not help much in predicting default.\n",
    "5. SEC.OVERDUE.ACCTS: 99% of the values are 0. Very little information can be obtained.\n",
    "6. PERFORM_CNS.SCORE.DESCRIPTION: This is a categorical version (description) of PERFORM_CNS.SCORE. We better work with the number."
   ]
  },
  {
   "cell_type": "code",
   "execution_count": 18,
   "id": "4d10c6ff",
   "metadata": {},
   "outputs": [],
   "source": [
    "columns_to_drop = ['UniqueID','MobileNo_Avl_Flag','DisbursalDate','SEC.OVERDUE.ACCTS', 'Employee_code_ID',\\\n",
    "                   'PERFORM_CNS.SCORE.DESCRIPTION', 'branch_id', 'supplier_id', 'manufacturer_id', 'Current_pincode_ID']\n",
    "df=df.drop(columns=columns_to_drop)"
   ]
  },
  {
   "cell_type": "code",
   "execution_count": 19,
   "id": "b45763bc",
   "metadata": {},
   "outputs": [
    {
     "data": {
      "text/plain": [
       "int64      27\n",
       "float64     3\n",
       "object      1\n",
       "dtype: int64"
      ]
     },
     "execution_count": 19,
     "metadata": {},
     "output_type": "execute_result"
    }
   ],
   "source": [
    "df.dtypes.value_counts()"
   ]
  },
  {
   "cell_type": "markdown",
   "id": "4ae6b876",
   "metadata": {},
   "source": [
    "#### Encode the categorical value Employment Type"
   ]
  },
  {
   "cell_type": "code",
   "execution_count": 20,
   "id": "95ad9e2a",
   "metadata": {},
   "outputs": [],
   "source": [
    "df[\"Employment.Type\"] = df[\"Employment.Type\"].astype('category')\n",
    "df[\"Employment.Type_cat\"] = df[\"Employment.Type\"].cat.codes\n",
    "df = df.drop(columns=[\"Employment.Type\"])"
   ]
  },
  {
   "cell_type": "code",
   "execution_count": 21,
   "id": "fb57ad2b",
   "metadata": {},
   "outputs": [
    {
     "data": {
      "text/plain": [
       "int64      27\n",
       "float64     3\n",
       "int8        1\n",
       "dtype: int64"
      ]
     },
     "execution_count": 21,
     "metadata": {},
     "output_type": "execute_result"
    }
   ],
   "source": [
    "df.dtypes.value_counts()"
   ]
  },
  {
   "cell_type": "markdown",
   "id": "8ef1427a",
   "metadata": {},
   "source": [
    "#### Separate the predicted from predictors"
   ]
  },
  {
   "cell_type": "code",
   "execution_count": 22,
   "id": "d55b5c59",
   "metadata": {},
   "outputs": [],
   "source": [
    "X =df.drop('loan_default',axis=1)\n",
    "y = df['loan_default']  "
   ]
  },
  {
   "cell_type": "code",
   "execution_count": 23,
   "id": "13517a5c",
   "metadata": {},
   "outputs": [],
   "source": [
    "X_Columns = X.columns"
   ]
  },
  {
   "cell_type": "markdown",
   "id": "09c714dd",
   "metadata": {},
   "source": [
    "### Scaling Data\n",
    "We shall use MinMax Scaler to scale the data and also take care of extreme values"
   ]
  },
  {
   "cell_type": "code",
   "execution_count": 24,
   "id": "d68e3766",
   "metadata": {},
   "outputs": [
    {
     "data": {
      "text/plain": [
       "StandardScaler()"
      ]
     },
     "execution_count": 24,
     "metadata": {},
     "output_type": "execute_result"
    }
   ],
   "source": [
    "scaler = preprocessing.StandardScaler()\n",
    "scaler.fit(X)"
   ]
  },
  {
   "cell_type": "code",
   "execution_count": 25,
   "id": "c606f9d0",
   "metadata": {},
   "outputs": [],
   "source": [
    "X_scaled = scaler.transform(X)"
   ]
  },
  {
   "cell_type": "code",
   "execution_count": 26,
   "id": "bf8a2420",
   "metadata": {},
   "outputs": [],
   "source": [
    "X_df = pd.DataFrame(X_scaled, columns=X_Columns)"
   ]
  },
  {
   "cell_type": "markdown",
   "id": "e99d5bd9",
   "metadata": {},
   "source": [
    "## Split data\n",
    "We shall split the data to obtain a test size of 20%"
   ]
  },
  {
   "cell_type": "code",
   "execution_count": 27,
   "id": "ecc18957",
   "metadata": {},
   "outputs": [],
   "source": [
    "X_train, X_test, y_train, y_test = train_test_split(X_df,y, test_size=0.2, random_state=0)"
   ]
  },
  {
   "cell_type": "markdown",
   "id": "ce74196a",
   "metadata": {},
   "source": [
    "# Model Training and testing"
   ]
  },
  {
   "cell_type": "markdown",
   "id": "7b21962b",
   "metadata": {},
   "source": [
    "### Logistic Regression Classifier"
   ]
  },
  {
   "cell_type": "code",
   "execution_count": 28,
   "id": "a535aae6",
   "metadata": {},
   "outputs": [
    {
     "data": {
      "text/plain": [
       "LogisticRegression()"
      ]
     },
     "execution_count": 28,
     "metadata": {},
     "output_type": "execute_result"
    }
   ],
   "source": [
    "# Fit the model on the training dataset\n",
    "LRclf = LogisticRegression(C=1.0, class_weight=None,fit_intercept=True,max_iter=100)\n",
    "LRclf.fit(X_train, y_train)"
   ]
  },
  {
   "cell_type": "markdown",
   "id": "0ee6d8a5",
   "metadata": {},
   "source": [
    "###### Evaluate Model Performance"
   ]
  },
  {
   "cell_type": "code",
   "execution_count": 29,
   "id": "3e5ec686",
   "metadata": {},
   "outputs": [
    {
     "name": "stdout",
     "output_type": "stream",
     "text": [
      "Accuracy of the Logistic Regression Classifier = 58.97%\n"
     ]
    }
   ],
   "source": [
    "LRclf_predicted = LRclf.predict(X_test)\n",
    "LRclf_score = balanced_accuracy_score(LRclf_predicted, y_test)\n",
    "print('Accuracy of the Logistic Regression Classifier = {:0.2f}%'.format(LRclf_score*100))"
   ]
  },
  {
   "cell_type": "markdown",
   "id": "97bf0fbe",
   "metadata": {},
   "source": [
    "###### Check out confusion matrix"
   ]
  },
  {
   "cell_type": "code",
   "execution_count": 30,
   "id": "d382ff77",
   "metadata": {},
   "outputs": [
    {
     "name": "stdout",
     "output_type": "stream",
     "text": [
      "True Positive(TP)  =  23087\n",
      "False Positive(FP) =  16885\n",
      "True Negative(TN)  =  19889\n",
      "False Negative(FN) =  13157\n"
     ]
    }
   ],
   "source": [
    "TN, FP, FN, TP = confusion_matrix(y_test, LRclf_predicted).ravel()\n",
    "\n",
    "print('True Positive(TP)  = ', TP)\n",
    "print('False Positive(FP) = ', FP)\n",
    "print('True Negative(TN)  = ', TN)\n",
    "print('False Negative(FN) = ', FN)"
   ]
  },
  {
   "cell_type": "markdown",
   "id": "ba4d1975",
   "metadata": {},
   "source": [
    "### Decision Tree Classifier"
   ]
  },
  {
   "cell_type": "code",
   "execution_count": 31,
   "id": "cbf2bfab",
   "metadata": {},
   "outputs": [
    {
     "data": {
      "text/plain": [
       "DecisionTreeClassifier()"
      ]
     },
     "execution_count": 31,
     "metadata": {},
     "output_type": "execute_result"
    }
   ],
   "source": [
    "# Fit the model on the training dataset\n",
    "DTclf  = DecisionTreeClassifier()\n",
    "DTclf.fit(X_train, y_train)"
   ]
  },
  {
   "cell_type": "markdown",
   "id": "9b99379b",
   "metadata": {},
   "source": [
    "###### Evaluate Model Performance"
   ]
  },
  {
   "cell_type": "code",
   "execution_count": 32,
   "id": "7d63e6dd",
   "metadata": {},
   "outputs": [
    {
     "name": "stdout",
     "output_type": "stream",
     "text": [
      "Accuracy of the Decision Tree Classifier = 87.41%\n"
     ]
    }
   ],
   "source": [
    "DTclf_predicted = DTclf.predict(X_test)\n",
    "DTclf_score = balanced_accuracy_score(DTclf_predicted, y_test)\n",
    "print('Accuracy of the Decision Tree Classifier = {:0.2f}%'.format(DTclf_score*100))"
   ]
  },
  {
   "cell_type": "code",
   "execution_count": 33,
   "id": "fcc01735",
   "metadata": {},
   "outputs": [
    {
     "name": "stdout",
     "output_type": "stream",
     "text": [
      "True Positive(TP)  =  34820\n",
      "False Positive(FP) =  8878\n",
      "True Negative(TN)  =  27896\n",
      "False Negative(FN) =  1424\n"
     ]
    }
   ],
   "source": [
    "TN, FP, FN, TP = confusion_matrix(y_test, DTclf_predicted).ravel()\n",
    "\n",
    "print('True Positive(TP)  = ', TP)\n",
    "print('False Positive(FP) = ', FP)\n",
    "print('True Negative(TN)  = ', TN)\n",
    "print('False Negative(FN) = ', FN)"
   ]
  },
  {
   "cell_type": "markdown",
   "id": "323d77c1",
   "metadata": {},
   "source": [
    "### Random Forest Classifier"
   ]
  },
  {
   "cell_type": "code",
   "execution_count": 34,
   "id": "85ce295a",
   "metadata": {},
   "outputs": [
    {
     "data": {
      "text/plain": [
       "RandomForestClassifier()"
      ]
     },
     "execution_count": 34,
     "metadata": {},
     "output_type": "execute_result"
    }
   ],
   "source": [
    "RFclf = RandomForestClassifier()\n",
    "RFclf.fit(X_train, y_train)"
   ]
  },
  {
   "cell_type": "code",
   "execution_count": 35,
   "id": "0d29ec97",
   "metadata": {},
   "outputs": [
    {
     "name": "stdout",
     "output_type": "stream",
     "text": [
      "Accuracy of the Random Forest Classifier = 93.02%\n"
     ]
    }
   ],
   "source": [
    "RFclf_predicted = RFclf.predict(X_test)\n",
    "RFclf_score = balanced_accuracy_score(RFclf_predicted, y_test)\n",
    "print('Accuracy of the Random Forest Classifier = {:0.2f}%'.format(RFclf_score*100))"
   ]
  },
  {
   "cell_type": "code",
   "execution_count": 36,
   "id": "58c566b5",
   "metadata": {},
   "outputs": [
    {
     "name": "stdout",
     "output_type": "stream",
     "text": [
      "True Positive(TP)  =  34583\n",
      "False Positive(FP) =  3504\n",
      "True Negative(TN)  =  33270\n",
      "False Negative(FN) =  1661\n"
     ]
    }
   ],
   "source": [
    "TN, FP, FN, TP = confusion_matrix(y_test, RFclf_predicted).ravel()\n",
    "\n",
    "print('True Positive(TP)  = ', TP)\n",
    "print('False Positive(FP) = ', FP)\n",
    "print('True Negative(TN)  = ', TN)\n",
    "print('False Negative(FN) = ', FN)"
   ]
  },
  {
   "cell_type": "markdown",
   "id": "249a6210",
   "metadata": {},
   "source": [
    "The Random Forest Classifier has done excellent. An accuracy of 93% is good enough. It also min"
   ]
  },
  {
   "cell_type": "markdown",
   "id": "01a2365a",
   "metadata": {},
   "source": [
    "### Using probalities from Random Forest Classifier, the business can set their own threshhold."
   ]
  },
  {
   "cell_type": "code",
   "execution_count": 37,
   "id": "bd45fee8",
   "metadata": {},
   "outputs": [],
   "source": [
    "preds = RFclf.predict(X_test)"
   ]
  },
  {
   "cell_type": "code",
   "execution_count": 38,
   "id": "2c90621c",
   "metadata": {},
   "outputs": [],
   "source": [
    "Test_df = X_test.copy()"
   ]
  },
  {
   "cell_type": "code",
   "execution_count": 39,
   "id": "52788035",
   "metadata": {},
   "outputs": [],
   "source": [
    "# To get the probabilities we use predict_proba on the fitted model\n",
    "probs = RFclf.predict_proba(X_test)"
   ]
  },
  {
   "cell_type": "code",
   "execution_count": 40,
   "id": "80e365f8",
   "metadata": {},
   "outputs": [],
   "source": [
    "y_test_list = list(y_test)\n",
    "preds_list = list(preds)\n",
    "probs_list = list(probs)\n",
    "Test_df['Loan_Default'] = y_test_list\n",
    "Test_df['Loan_Default_Pred'] = preds_list\n",
    "Test_df['Loan_Default_Prob'] = probs_list"
   ]
  },
  {
   "cell_type": "code",
   "execution_count": 41,
   "id": "b98f3067",
   "metadata": {},
   "outputs": [
    {
     "data": {
      "text/html": [
       "<div>\n",
       "<style scoped>\n",
       "    .dataframe tbody tr th:only-of-type {\n",
       "        vertical-align: middle;\n",
       "    }\n",
       "\n",
       "    .dataframe tbody tr th {\n",
       "        vertical-align: top;\n",
       "    }\n",
       "\n",
       "    .dataframe thead th {\n",
       "        text-align: right;\n",
       "    }\n",
       "</style>\n",
       "<table border=\"1\" class=\"dataframe\">\n",
       "  <thead>\n",
       "    <tr style=\"text-align: right;\">\n",
       "      <th></th>\n",
       "      <th>disbursed_amount</th>\n",
       "      <th>asset_cost</th>\n",
       "      <th>ltv</th>\n",
       "      <th>State_ID</th>\n",
       "      <th>Aadhar_flag</th>\n",
       "      <th>PAN_flag</th>\n",
       "      <th>VoterID_flag</th>\n",
       "      <th>Driving_flag</th>\n",
       "      <th>Passport_flag</th>\n",
       "      <th>PERFORM_CNS.SCORE</th>\n",
       "      <th>...</th>\n",
       "      <th>NEW.ACCTS.IN.LAST.SIX.MONTHS</th>\n",
       "      <th>DELINQUENT.ACCTS.IN.LAST.SIX.MONTHS</th>\n",
       "      <th>NO.OF_INQUIRIES</th>\n",
       "      <th>Age</th>\n",
       "      <th>AVERAGE_ACCT_AGE</th>\n",
       "      <th>CREDIT_HISTORY_LENGTH</th>\n",
       "      <th>Employment.Type_cat</th>\n",
       "      <th>Loan_Default</th>\n",
       "      <th>Loan_Default_Pred</th>\n",
       "      <th>Loan_Default_Prob</th>\n",
       "    </tr>\n",
       "  </thead>\n",
       "  <tbody>\n",
       "    <tr>\n",
       "      <th>301609</th>\n",
       "      <td>1.100024</td>\n",
       "      <td>1.082083</td>\n",
       "      <td>-0.152200</td>\n",
       "      <td>-0.978048</td>\n",
       "      <td>0.453485</td>\n",
       "      <td>-0.287228</td>\n",
       "      <td>-0.429438</td>\n",
       "      <td>-0.152795</td>\n",
       "      <td>-0.043102</td>\n",
       "      <td>-0.831633</td>\n",
       "      <td>...</td>\n",
       "      <td>-0.387211</td>\n",
       "      <td>-0.264852</td>\n",
       "      <td>-0.302482</td>\n",
       "      <td>-0.027533</td>\n",
       "      <td>-0.580400</td>\n",
       "      <td>-0.560035</td>\n",
       "      <td>0.848616</td>\n",
       "      <td>1</td>\n",
       "      <td>1</td>\n",
       "      <td>[0.13, 0.87]</td>\n",
       "    </tr>\n",
       "    <tr>\n",
       "      <th>283735</th>\n",
       "      <td>0.582631</td>\n",
       "      <td>0.094523</td>\n",
       "      <td>0.763249</td>\n",
       "      <td>1.238685</td>\n",
       "      <td>0.453485</td>\n",
       "      <td>-0.287228</td>\n",
       "      <td>-0.429438</td>\n",
       "      <td>-0.152795</td>\n",
       "      <td>-0.043102</td>\n",
       "      <td>-0.831633</td>\n",
       "      <td>...</td>\n",
       "      <td>-0.387211</td>\n",
       "      <td>-0.264852</td>\n",
       "      <td>-0.302482</td>\n",
       "      <td>0.456598</td>\n",
       "      <td>-0.580400</td>\n",
       "      <td>-0.560035</td>\n",
       "      <td>0.848616</td>\n",
       "      <td>1</td>\n",
       "      <td>1</td>\n",
       "      <td>[0.25, 0.75]</td>\n",
       "    </tr>\n",
       "    <tr>\n",
       "      <th>259021</th>\n",
       "      <td>-0.091461</td>\n",
       "      <td>-0.361139</td>\n",
       "      <td>0.327578</td>\n",
       "      <td>1.238685</td>\n",
       "      <td>-2.205146</td>\n",
       "      <td>3.481560</td>\n",
       "      <td>2.328622</td>\n",
       "      <td>-0.152795</td>\n",
       "      <td>-0.043102</td>\n",
       "      <td>-0.831633</td>\n",
       "      <td>...</td>\n",
       "      <td>-0.387211</td>\n",
       "      <td>-0.264852</td>\n",
       "      <td>-0.302482</td>\n",
       "      <td>0.016479</td>\n",
       "      <td>-0.580400</td>\n",
       "      <td>-0.560035</td>\n",
       "      <td>0.848616</td>\n",
       "      <td>1</td>\n",
       "      <td>1</td>\n",
       "      <td>[0.11, 0.89]</td>\n",
       "    </tr>\n",
       "    <tr>\n",
       "      <th>84230</th>\n",
       "      <td>0.543594</td>\n",
       "      <td>-0.267184</td>\n",
       "      <td>1.189018</td>\n",
       "      <td>-0.756375</td>\n",
       "      <td>0.453485</td>\n",
       "      <td>-0.287228</td>\n",
       "      <td>-0.429438</td>\n",
       "      <td>-0.152795</td>\n",
       "      <td>-0.043102</td>\n",
       "      <td>0.539182</td>\n",
       "      <td>...</td>\n",
       "      <td>0.679287</td>\n",
       "      <td>-0.264852</td>\n",
       "      <td>-0.302482</td>\n",
       "      <td>0.940729</td>\n",
       "      <td>0.425493</td>\n",
       "      <td>0.785236</td>\n",
       "      <td>0.848616</td>\n",
       "      <td>0</td>\n",
       "      <td>0</td>\n",
       "      <td>[0.63, 0.37]</td>\n",
       "    </tr>\n",
       "    <tr>\n",
       "      <th>228741</th>\n",
       "      <td>-0.117039</td>\n",
       "      <td>-0.419496</td>\n",
       "      <td>0.468901</td>\n",
       "      <td>0.351992</td>\n",
       "      <td>0.453485</td>\n",
       "      <td>-0.287228</td>\n",
       "      <td>-0.429438</td>\n",
       "      <td>-0.152795</td>\n",
       "      <td>-0.043102</td>\n",
       "      <td>1.491221</td>\n",
       "      <td>...</td>\n",
       "      <td>0.679287</td>\n",
       "      <td>-0.264852</td>\n",
       "      <td>-0.302482</td>\n",
       "      <td>-0.203580</td>\n",
       "      <td>-0.312162</td>\n",
       "      <td>-0.414601</td>\n",
       "      <td>-2.717859</td>\n",
       "      <td>1</td>\n",
       "      <td>1</td>\n",
       "      <td>[0.01, 0.99]</td>\n",
       "    </tr>\n",
       "  </tbody>\n",
       "</table>\n",
       "<p>5 rows × 33 columns</p>\n",
       "</div>"
      ],
      "text/plain": [
       "        disbursed_amount  asset_cost       ltv  State_ID  Aadhar_flag  \\\n",
       "301609          1.100024    1.082083 -0.152200 -0.978048     0.453485   \n",
       "283735          0.582631    0.094523  0.763249  1.238685     0.453485   \n",
       "259021         -0.091461   -0.361139  0.327578  1.238685    -2.205146   \n",
       "84230           0.543594   -0.267184  1.189018 -0.756375     0.453485   \n",
       "228741         -0.117039   -0.419496  0.468901  0.351992     0.453485   \n",
       "\n",
       "        PAN_flag  VoterID_flag  Driving_flag  Passport_flag  \\\n",
       "301609 -0.287228     -0.429438     -0.152795      -0.043102   \n",
       "283735 -0.287228     -0.429438     -0.152795      -0.043102   \n",
       "259021  3.481560      2.328622     -0.152795      -0.043102   \n",
       "84230  -0.287228     -0.429438     -0.152795      -0.043102   \n",
       "228741 -0.287228     -0.429438     -0.152795      -0.043102   \n",
       "\n",
       "        PERFORM_CNS.SCORE  ...  NEW.ACCTS.IN.LAST.SIX.MONTHS  \\\n",
       "301609          -0.831633  ...                     -0.387211   \n",
       "283735          -0.831633  ...                     -0.387211   \n",
       "259021          -0.831633  ...                     -0.387211   \n",
       "84230            0.539182  ...                      0.679287   \n",
       "228741           1.491221  ...                      0.679287   \n",
       "\n",
       "        DELINQUENT.ACCTS.IN.LAST.SIX.MONTHS  NO.OF_INQUIRIES       Age  \\\n",
       "301609                            -0.264852        -0.302482 -0.027533   \n",
       "283735                            -0.264852        -0.302482  0.456598   \n",
       "259021                            -0.264852        -0.302482  0.016479   \n",
       "84230                             -0.264852        -0.302482  0.940729   \n",
       "228741                            -0.264852        -0.302482 -0.203580   \n",
       "\n",
       "        AVERAGE_ACCT_AGE  CREDIT_HISTORY_LENGTH  Employment.Type_cat  \\\n",
       "301609         -0.580400              -0.560035             0.848616   \n",
       "283735         -0.580400              -0.560035             0.848616   \n",
       "259021         -0.580400              -0.560035             0.848616   \n",
       "84230           0.425493               0.785236             0.848616   \n",
       "228741         -0.312162              -0.414601            -2.717859   \n",
       "\n",
       "        Loan_Default  Loan_Default_Pred  Loan_Default_Prob  \n",
       "301609             1                  1       [0.13, 0.87]  \n",
       "283735             1                  1       [0.25, 0.75]  \n",
       "259021             1                  1       [0.11, 0.89]  \n",
       "84230              0                  0       [0.63, 0.37]  \n",
       "228741             1                  1       [0.01, 0.99]  \n",
       "\n",
       "[5 rows x 33 columns]"
      ]
     },
     "execution_count": 41,
     "metadata": {},
     "output_type": "execute_result"
    }
   ],
   "source": [
    "Test_df.head()"
   ]
  },
  {
   "cell_type": "markdown",
   "id": "4ebafd0a",
   "metadata": {},
   "source": [
    "## Other Useful accuracy Metrics"
   ]
  },
  {
   "cell_type": "markdown",
   "id": "aacb74b5",
   "metadata": {},
   "source": [
    "#### ROC Curve"
   ]
  },
  {
   "cell_type": "code",
   "execution_count": 42,
   "id": "eed56814",
   "metadata": {},
   "outputs": [
    {
     "data": {
      "text/plain": [
       "0.9294435064751841"
      ]
     },
     "execution_count": 42,
     "metadata": {},
     "output_type": "execute_result"
    }
   ],
   "source": [
    "from sklearn.metrics import roc_curve, auc\n",
    "false_positive_rate, true_positive_rate, thresholds = roc_curve(y_test, RFclf_predicted)\n",
    "roc_auc = auc(false_positive_rate, true_positive_rate)\n",
    "roc_auc"
   ]
  },
  {
   "cell_type": "markdown",
   "id": "c9f82400",
   "metadata": {},
   "source": [
    "#### Brier Score Loss"
   ]
  },
  {
   "cell_type": "markdown",
   "id": "994cdb0a",
   "metadata": {},
   "source": [
    "The Brier score measures the mean squared difference between the predicted probability and the actual outcome. Since the output is in term of probabilities and is intended for binary classification, brier score loss is a good metric to use to measure model accuracy. The smaller the Brier Score loss, the better the model."
   ]
  },
  {
   "cell_type": "code",
   "execution_count": 43,
   "id": "0a266bcb",
   "metadata": {},
   "outputs": [],
   "source": [
    "from sklearn.metrics import brier_score_loss"
   ]
  },
  {
   "cell_type": "code",
   "execution_count": 44,
   "id": "e969b990",
   "metadata": {},
   "outputs": [
    {
     "name": "stdout",
     "output_type": "stream",
     "text": [
      "Brier Score Loss: 0.074\n"
     ]
    }
   ],
   "source": [
    "probs = RFclf.predict_proba(X_test)[:, 1]\n",
    "RFclf_score = brier_score_loss(y_test, probs)\n",
    "print(\"Brier Score Loss: %1.3f\" % RFclf_score)"
   ]
  },
  {
   "cell_type": "markdown",
   "id": "79746ed3",
   "metadata": {},
   "source": [
    "A Brier Score of 0.075 is quite close to 0 and shows that the model is performing well."
   ]
  },
  {
   "cell_type": "code",
   "execution_count": 45,
   "id": "4c05efe4",
   "metadata": {},
   "outputs": [
    {
     "name": "stdout",
     "output_type": "stream",
     "text": [
      "Predicted      0      1\n",
      "Actual                 \n",
      "0          33270   3504\n",
      "1           1661  34583\n"
     ]
    }
   ],
   "source": [
    "confusion_matrix = pd.crosstab(y_test, RFclf_predicted, rownames=['Actual'], colnames=['Predicted'])\n",
    "print (confusion_matrix)"
   ]
  },
  {
   "cell_type": "code",
   "execution_count": null,
   "id": "a3472c3e",
   "metadata": {},
   "outputs": [],
   "source": []
  }
 ],
 "metadata": {
  "kernelspec": {
   "display_name": "Python 3 (ipykernel)",
   "language": "python",
   "name": "python3"
  },
  "language_info": {
   "codemirror_mode": {
    "name": "ipython",
    "version": 3
   },
   "file_extension": ".py",
   "mimetype": "text/x-python",
   "name": "python",
   "nbconvert_exporter": "python",
   "pygments_lexer": "ipython3",
   "version": "3.10.0"
  }
 },
 "nbformat": 4,
 "nbformat_minor": 5
}
